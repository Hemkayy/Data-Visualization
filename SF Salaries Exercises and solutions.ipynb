{
 "cells": [
  {
   "cell_type": "markdown",
   "id": "7eab4a62",
   "metadata": {},
   "source": [
    "Welcome to a quick exercise for you to practice your pandas skills! We will be using the SF Salaries Dataset from Kaggle! Just follow along and complete the tasks outlined in bold below. The tasks will get harder and harder as you go along."
   ]
  },
  {
   "cell_type": "code",
   "execution_count": null,
   "id": "565a25a2",
   "metadata": {},
   "outputs": [],
   "source": [
    "Import pandas as pd"
   ]
  },
  {
   "cell_type": "markdown",
   "id": "69c7a9b0",
   "metadata": {},
   "source": [
    "Read Salaries.csv as a dataframe called sal.\n",
    "\n"
   ]
  },
  {
   "cell_type": "code",
   "execution_count": null,
   "id": "b74c0eba",
   "metadata": {},
   "outputs": [],
   "source": [
    "sal = pd.read_csv('Salaries.csv')\n"
   ]
  },
  {
   "cell_type": "markdown",
   "id": "ae32cf64",
   "metadata": {},
   "source": [
    "Check the head of the DataFrame.\n",
    "\n"
   ]
  },
  {
   "cell_type": "code",
   "execution_count": null,
   "id": "90e12598",
   "metadata": {},
   "outputs": [],
   "source": [
    "sal.head()\n"
   ]
  },
  {
   "cell_type": "markdown",
   "id": "283693ea",
   "metadata": {},
   "source": [
    "Use the .info() method to find out how many entries there are."
   ]
  },
  {
   "cell_type": "code",
   "execution_count": null,
   "id": "7d59f5bb",
   "metadata": {},
   "outputs": [],
   "source": [
    "sal.info()"
   ]
  },
  {
   "cell_type": "markdown",
   "id": "6a6176b1",
   "metadata": {},
   "source": [
    "What is the average BasePay ?"
   ]
  },
  {
   "cell_type": "code",
   "execution_count": null,
   "id": "1ce89421",
   "metadata": {},
   "outputs": [],
   "source": [
    "sal['BasePay'].mean()\n"
   ]
  },
  {
   "cell_type": "markdown",
   "id": "e958d421",
   "metadata": {},
   "source": [
    "What is the highest amount of OvertimePay in the dataset ?"
   ]
  },
  {
   "cell_type": "code",
   "execution_count": null,
   "id": "79c34a35",
   "metadata": {},
   "outputs": [],
   "source": [
    "sal['OvertimePay'].max()\n"
   ]
  },
  {
   "cell_type": "markdown",
   "id": "872e5820",
   "metadata": {},
   "source": [
    "What is the job title of JOSEPH DRISCOLL ? Note: Use all caps, otherwise you may get an answer that doesn't match up (there is also a lowercase Joseph Driscoll)."
   ]
  },
  {
   "cell_type": "code",
   "execution_count": null,
   "id": "284d3b21",
   "metadata": {},
   "outputs": [],
   "source": [
    "sal[sal['EmployeeName']=='JOSEPH DRISCOLL']['JobTitle']"
   ]
  },
  {
   "cell_type": "markdown",
   "id": "f95a6363",
   "metadata": {},
   "source": [
    "How much does JOSEPH DRISCOLL make (including benefits)?\n"
   ]
  },
  {
   "cell_type": "code",
   "execution_count": null,
   "id": "e57ee4cf",
   "metadata": {},
   "outputs": [],
   "source": [
    "sal[sal['EmployeeName']=='JOSEPH DRISCOLL']['TotalPayBenefits']\n"
   ]
  },
  {
   "cell_type": "markdown",
   "id": "d335179d",
   "metadata": {},
   "source": [
    "What is the name of highest paid person (including benefits)?"
   ]
  },
  {
   "cell_type": "code",
   "execution_count": null,
   "id": "bdb01587",
   "metadata": {},
   "outputs": [],
   "source": [
    "sal[sal['TotalPayBenefits']== sal['TotalPayBenefits'].max()]\n"
   ]
  },
  {
   "cell_type": "markdown",
   "id": "817d4be5",
   "metadata": {},
   "source": [
    "What is the name of lowest paid person (including benefits)? Do you notice something strange about how much he or she is paid?"
   ]
  },
  {
   "cell_type": "code",
   "execution_count": null,
   "id": "ca4bbb74",
   "metadata": {},
   "outputs": [],
   "source": [
    "sal[sal['TotalPayBenefits']== sal['TotalPayBenefits'].min()]\n"
   ]
  },
  {
   "cell_type": "markdown",
   "id": "743f35e4",
   "metadata": {},
   "source": [
    "What was the average (mean) BasePay of all employees per year? (2011-2014) ?"
   ]
  },
  {
   "cell_type": "code",
   "execution_count": null,
   "id": "8a73315b",
   "metadata": {},
   "outputs": [],
   "source": [
    "sal.groupby('Year').mean()['BasePay']\n"
   ]
  },
  {
   "cell_type": "markdown",
   "id": "01b74d62",
   "metadata": {},
   "source": [
    "How many unique job titles are there?\n",
    "\n"
   ]
  },
  {
   "cell_type": "code",
   "execution_count": null,
   "id": "dc5dd37c",
   "metadata": {},
   "outputs": [],
   "source": [
    "sal['JobTitle'].nunique()"
   ]
  },
  {
   "cell_type": "markdown",
   "id": "6cc1f124",
   "metadata": {},
   "source": [
    "What are the top 5 most common jobs?"
   ]
  },
  {
   "cell_type": "code",
   "execution_count": null,
   "id": "8e55c259",
   "metadata": {},
   "outputs": [],
   "source": [
    "sal['JobTitle'].value_counts().head(5)"
   ]
  },
  {
   "cell_type": "markdown",
   "id": "ca0088aa",
   "metadata": {},
   "source": [
    "How many Job Titles were represented by only one person in 2013? (e.g. Job Titles with only one occurence in 2013?)"
   ]
  },
  {
   "cell_type": "code",
   "execution_count": null,
   "id": "f4dcebcd",
   "metadata": {},
   "outputs": [],
   "source": [
    "sum(sal[sal['Year']==2013]['JobTitle'].value_counts() == 1)\n"
   ]
  },
  {
   "cell_type": "markdown",
   "id": "8cf77035",
   "metadata": {},
   "source": [
    "How many people have the word Chief in their job title? (This is pretty tricky)"
   ]
  },
  {
   "cell_type": "code",
   "execution_count": null,
   "id": "c1785d8f",
   "metadata": {},
   "outputs": [],
   "source": [
    "def chief_string(title):\n",
    "    if 'chief' in title.lower():\n",
    "        return True\n",
    "    else:\n",
    "        return False"
   ]
  },
  {
   "cell_type": "code",
   "execution_count": null,
   "id": "42c8159b",
   "metadata": {},
   "outputs": [],
   "source": [
    "sum(sal['JobTitle'].apply(lambda x: chief_string(x)))\n"
   ]
  },
  {
   "cell_type": "markdown",
   "id": "b29fd932",
   "metadata": {},
   "source": [
    " Is there a correlation between length of the Job Title string and Salary?"
   ]
  },
  {
   "cell_type": "code",
   "execution_count": null,
   "id": "9f0c37c4",
   "metadata": {},
   "outputs": [],
   "source": [
    "sal['title_len'] = sal['JobTitle'].apply(len)\n"
   ]
  },
  {
   "cell_type": "code",
   "execution_count": null,
   "id": "410f7a48",
   "metadata": {},
   "outputs": [],
   "source": [
    "sal[['title_len','TotalPayBenefits']].corr()"
   ]
  },
  {
   "cell_type": "code",
   "execution_count": null,
   "id": "a3fe44f5",
   "metadata": {},
   "outputs": [],
   "source": []
  },
  {
   "cell_type": "code",
   "execution_count": null,
   "id": "8a479c8a",
   "metadata": {},
   "outputs": [],
   "source": []
  }
 ],
 "metadata": {
  "kernelspec": {
   "display_name": "Python 3 (ipykernel)",
   "language": "python",
   "name": "python3"
  },
  "language_info": {
   "codemirror_mode": {
    "name": "ipython",
    "version": 3
   },
   "file_extension": ".py",
   "mimetype": "text/x-python",
   "name": "python",
   "nbconvert_exporter": "python",
   "pygments_lexer": "ipython3",
   "version": "3.11.5"
  }
 },
 "nbformat": 4,
 "nbformat_minor": 5
}
